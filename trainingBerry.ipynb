{
 "cells": [
  {
   "cell_type": "code",
   "execution_count": 117,
   "id": "02cb7bbd",
   "metadata": {},
   "outputs": [],
   "source": [
    "import tensorflow as tf\n",
    "from tensorflow.compat.v1 import ConfigProto\n",
    "from tensorflow.compat.v1 import InteractiveSession"
   ]
  },
  {
   "cell_type": "code",
   "execution_count": 118,
   "id": "ce782bfe",
   "metadata": {},
   "outputs": [],
   "source": [
    "config = ConfigProto()\n",
    "config.gpu_options.allow_growth = True\n",
    "session = InteractiveSession(config=config)"
   ]
  },
  {
   "cell_type": "code",
   "execution_count": 119,
   "id": "c71f2a9f",
   "metadata": {},
   "outputs": [],
   "source": [
    "from tensorflow.keras.models import Sequential\n",
    "from tensorflow.keras.layers import Conv2D\n",
    "from tensorflow.keras.layers import MaxPooling2D\n",
    "from tensorflow.keras.layers import Flatten\n",
    "from tensorflow.keras.layers import Dense\n",
    "from tensorflow.keras.preprocessing.image import ImageDataGenerator"
   ]
  },
  {
   "cell_type": "code",
   "execution_count": 120,
   "id": "639014f2",
   "metadata": {},
   "outputs": [],
   "source": [
    "tf.compat.v1.disable_eager_execution()"
   ]
  },
  {
   "cell_type": "code",
   "execution_count": 121,
   "id": "e8968e89",
   "metadata": {},
   "outputs": [],
   "source": [
    "import matplotlib.pyplot as plt\n",
    "import numpy as np\n",
    "import os"
   ]
  },
  {
   "cell_type": "code",
   "execution_count": 136,
   "id": "05d37b30",
   "metadata": {},
   "outputs": [],
   "source": [
    "#initializing the CNN\n",
    "classifier = Sequential()"
   ]
  },
  {
   "cell_type": "code",
   "execution_count": 137,
   "id": "b42d2dbf",
   "metadata": {},
   "outputs": [],
   "source": [
    "classifier.add(Conv2D(32, (3, 3), input_shape = (128, 128, 3), activation = 'relu'))"
   ]
  },
  {
   "cell_type": "code",
   "execution_count": 138,
   "id": "fcec61ed",
   "metadata": {},
   "outputs": [],
   "source": [
    "classifier.add(Conv2D(32, (3, 3), activation = 'relu'))\n",
    "classifier.add(MaxPooling2D(pool_size = (3, 3)))"
   ]
  },
  {
   "cell_type": "code",
   "execution_count": 139,
   "id": "d27aab93",
   "metadata": {},
   "outputs": [],
   "source": [
    "classifier.add(Flatten())"
   ]
  },
  {
   "cell_type": "code",
   "execution_count": 140,
   "id": "8bec20c1",
   "metadata": {},
   "outputs": [],
   "source": [
    "#hidden layer\n",
    "classifier.add(Dense(units = 128, activation = 'relu'))\n",
    "#output layer\n",
    "classifier.add(Dense(units = 5, activation = 'sigmoid'))"
   ]
  },
  {
   "cell_type": "code",
   "execution_count": 141,
   "id": "c7227c84",
   "metadata": {},
   "outputs": [],
   "source": [
    "classifier.compile(optimizer = 'adam', loss = 'categorical_crossentropy', metrics = ['accuracy'])\n",
    "\n",
    "\n",
    "train_datagen = ImageDataGenerator(rescale = 1./255, shear_range = 0.2, zoom_range = 0.2, horizontal_flip = True)\n",
    "\n",
    "test_datagen = ImageDataGenerator(rescale = 1./255)\n"
   ]
  },
  {
   "cell_type": "code",
   "execution_count": 142,
   "id": "d388b6f4",
   "metadata": {},
   "outputs": [
    {
     "name": "stdout",
     "output_type": "stream",
     "text": [
      "Found 53 images belonging to 5 classes.\n"
     ]
    }
   ],
   "source": [
    "training_set = train_datagen.flow_from_directory('C:/Users/student/Desktop/dataset/Train', # relative path from working directoy\n",
    "                                                 target_size = (128, 128),\n",
    "                                                 batch_size = 10, class_mode = 'categorical')"
   ]
  },
  {
   "cell_type": "code",
   "execution_count": 143,
   "id": "6ef769f8",
   "metadata": {},
   "outputs": [
    {
     "name": "stdout",
     "output_type": "stream",
     "text": [
      "Found 28 images belonging to 5 classes.\n"
     ]
    }
   ],
   "source": [
    "valid_set = test_datagen.flow_from_directory('C:/Users/student/Desktop/dataset/val', # relative path from working directoy\n",
    "                                             target_size = (128, 128), \n",
    "                                        batch_size = 6, class_mode = 'categorical')"
   ]
  },
  {
   "cell_type": "code",
   "execution_count": 144,
   "id": "3aa2ec12",
   "metadata": {},
   "outputs": [
    {
     "name": "stdout",
     "output_type": "stream",
     "text": [
      "{'berry_blotch': 0, 'berry_disease': 1, 'die_back': 2, 'healthy': 3, 'unknown': 4}\n"
     ]
    }
   ],
   "source": [
    "labels = (training_set.class_indices)\n",
    "print(labels)"
   ]
  },
  {
   "cell_type": "code",
   "execution_count": 145,
   "id": "8a23d505",
   "metadata": {},
   "outputs": [
    {
     "name": "stdout",
     "output_type": "stream",
     "text": [
      "Epoch 1/24\n",
      "20/20 [==============================] - 49s 2s/step - batch: 9.5000 - size: 8.6000 - loss: 2.3774 - accuracy: 0.2442 - val_loss: 1.5424 - val_accuracy: 0.2857\n",
      "Epoch 2/24\n",
      "20/20 [==============================] - 45s 2s/step - batch: 9.5000 - size: 8.9500 - loss: 1.3252 - accuracy: 0.3911 - val_loss: 1.4841 - val_accuracy: 0.2857\n",
      "Epoch 3/24\n",
      "20/20 [==============================] - 43s 2s/step - batch: 9.5000 - size: 8.9500 - loss: 0.9638 - accuracy: 0.6816 - val_loss: 1.4049 - val_accuracy: 0.4286\n",
      "Epoch 4/24\n",
      "20/20 [==============================] - 42s 2s/step - batch: 9.5000 - size: 8.9500 - loss: 0.6631 - accuracy: 0.7933 - val_loss: 2.8246 - val_accuracy: 0.3929\n",
      "Epoch 5/24\n",
      "20/20 [==============================] - 41s 2s/step - batch: 9.5000 - size: 8.6000 - loss: 0.5969 - accuracy: 0.8023 - val_loss: 2.1107 - val_accuracy: 0.6071\n",
      "Epoch 6/24\n",
      "20/20 [==============================] - 48s 2s/step - batch: 9.5000 - size: 8.9500 - loss: 0.3274 - accuracy: 0.8827 - val_loss: 2.3046 - val_accuracy: 0.5000\n",
      "Epoch 7/24\n",
      "20/20 [==============================] - 42s 2s/step - batch: 9.5000 - size: 8.9500 - loss: 0.1579 - accuracy: 0.9553 - val_loss: 2.2958 - val_accuracy: 0.5714\n",
      "Epoch 8/24\n",
      "20/20 [==============================] - 44s 2s/step - batch: 9.5000 - size: 8.6000 - loss: 0.0772 - accuracy: 0.9593 - val_loss: 2.1711 - val_accuracy: 0.5000\n",
      "Epoch 9/24\n",
      "20/20 [==============================] - 50s 3s/step - batch: 9.5000 - size: 8.9500 - loss: 0.0382 - accuracy: 0.9721 - val_loss: 2.5589 - val_accuracy: 0.5000\n",
      "Epoch 10/24\n",
      "20/20 [==============================] - 49s 2s/step - batch: 9.5000 - size: 8.6000 - loss: 0.1516 - accuracy: 0.9419 - val_loss: 1.7310 - val_accuracy: 0.5357\n",
      "Epoch 11/24\n",
      "20/20 [==============================] - 43s 2s/step - batch: 9.5000 - size: 8.9500 - loss: 0.2619 - accuracy: 0.9162 - val_loss: 2.3835 - val_accuracy: 0.5357\n",
      "Epoch 12/24\n",
      "20/20 [==============================] - 41s 2s/step - batch: 9.5000 - size: 8.9500 - loss: 0.0387 - accuracy: 0.9777 - val_loss: 2.4700 - val_accuracy: 0.6071\n",
      "Epoch 13/24\n",
      "20/20 [==============================] - 40s 2s/step - batch: 9.5000 - size: 8.9500 - loss: 0.0250 - accuracy: 0.9832 - val_loss: 3.4676 - val_accuracy: 0.5000\n",
      "Epoch 14/24\n",
      "20/20 [==============================] - 39s 2s/step - batch: 9.5000 - size: 8.6000 - loss: 0.0678 - accuracy: 0.9535 - val_loss: 3.2517 - val_accuracy: 0.4286\n",
      "Epoch 15/24\n",
      "20/20 [==============================] - 46s 2s/step - batch: 9.5000 - size: 8.9500 - loss: 0.1016 - accuracy: 0.9385 - val_loss: 3.9264 - val_accuracy: 0.5000\n",
      "Epoch 16/24\n",
      "20/20 [==============================] - 41s 2s/step - batch: 9.5000 - size: 8.9500 - loss: 0.1054 - accuracy: 0.9721 - val_loss: 3.1358 - val_accuracy: 0.5714\n",
      "Epoch 17/24\n",
      "20/20 [==============================] - 40s 2s/step - batch: 9.5000 - size: 8.6000 - loss: 0.0506 - accuracy: 0.9767 - val_loss: 3.7064 - val_accuracy: 0.5714\n",
      "Epoch 18/24\n",
      "20/20 [==============================] - 42s 2s/step - batch: 9.5000 - size: 8.9500 - loss: 0.1342 - accuracy: 0.9330 - val_loss: 3.8978 - val_accuracy: 0.4286\n",
      "Epoch 19/24\n",
      "20/20 [==============================] - 44s 2s/step - batch: 9.5000 - size: 8.9500 - loss: 0.0399 - accuracy: 0.9832 - val_loss: 2.7796 - val_accuracy: 0.5714\n",
      "Epoch 20/24\n",
      "20/20 [==============================] - 41s 2s/step - batch: 9.5000 - size: 8.6000 - loss: 0.0090 - accuracy: 1.0000 - val_loss: 3.4840 - val_accuracy: 0.5714\n",
      "Epoch 21/24\n",
      "20/20 [==============================] - 42s 2s/step - batch: 9.5000 - size: 8.9500 - loss: 0.0167 - accuracy: 0.9721 - val_loss: 3.5673 - val_accuracy: 0.5357\n",
      "Epoch 22/24\n",
      "20/20 [==============================] - 42s 2s/step - batch: 9.5000 - size: 8.9500 - loss: 0.0046 - accuracy: 0.9832 - val_loss: 3.8673 - val_accuracy: 0.5357\n",
      "Epoch 23/24\n",
      "20/20 [==============================] - 45s 2s/step - batch: 9.5000 - size: 8.9500 - loss: 0.0024 - accuracy: 0.9944 - val_loss: 4.2268 - val_accuracy: 0.6071\n",
      "Epoch 24/24\n",
      "20/20 [==============================] - 45s 2s/step - batch: 9.5000 - size: 8.6000 - loss: 7.7620e-04 - accuracy: 0.9826 - val_loss: 4.4338 - val_accuracy: 0.5714\n"
     ]
    },
    {
     "data": {
      "text/plain": [
       "<keras.callbacks.History at 0x1e843799c40>"
      ]
     },
     "execution_count": 145,
     "metadata": {},
     "output_type": "execute_result"
    }
   ],
   "source": [
    "classifier.fit(training_set,\n",
    "                         steps_per_epoch = 20,\n",
    "                         epochs = 24,\n",
    "                         validation_data=valid_set\n",
    "                         )"
   ]
  },
  {
   "cell_type": "code",
   "execution_count": 146,
   "id": "b2aeb8e3",
   "metadata": {},
   "outputs": [],
   "source": [
    "classifier_json=classifier.to_json()\n",
    "with open(\"model5.json\", \"w\") as json_file:\n",
    "    json_file.write(classifier_json)"
   ]
  },
  {
   "cell_type": "code",
   "execution_count": 147,
   "id": "5dd70782",
   "metadata": {
    "scrolled": true
   },
   "outputs": [
    {
     "name": "stdout",
     "output_type": "stream",
     "text": [
      "Saved model to disk\n"
     ]
    }
   ],
   "source": [
    "# serialize weights to HDF5\n",
    "classifier.save_weights(\"my_model_weights.h5\")\n",
    "classifier.save(\"model4.h5\")\n",
    "print(\"Saved model to disk\")"
   ]
  },
  {
   "cell_type": "code",
   "execution_count": 176,
   "id": "1e392536",
   "metadata": {},
   "outputs": [
    {
     "name": "stderr",
     "output_type": "stream",
     "text": [
      "WARNING:absl:Found untraced functions such as _jit_compiled_convolution_op, _jit_compiled_convolution_op while saving (showing 2 of 2). These functions will not be directly callable after loading.\n"
     ]
    },
    {
     "name": "stdout",
     "output_type": "stream",
     "text": [
      "INFO:tensorflow:Assets written to: C:\\Users\\student\\AppData\\Local\\Temp\\tmp3h5bou5f\\assets\n"
     ]
    },
    {
     "name": "stderr",
     "output_type": "stream",
     "text": [
      "INFO:tensorflow:Assets written to: C:\\Users\\student\\AppData\\Local\\Temp\\tmp3h5bou5f\\assets\n"
     ]
    },
    {
     "data": {
      "text/plain": [
       "27588508"
      ]
     },
     "execution_count": 176,
     "metadata": {},
     "output_type": "execute_result"
    }
   ],
   "source": [
    "import tensorflow as tf\n",
    "model=tf.keras.models.load_model(\"model4.h5\")\n",
    "converter = tf.lite.TFLiteConverter.from_keras_model(model)\n",
    "converter.experimental_new_converter = True\n",
    "tflite_model = converter.convert()\n",
    "open(\"converted_model.tflite\", \"wb\").write(tflite_model) "
   ]
  },
  {
   "cell_type": "code",
   "execution_count": 181,
   "id": "2bb8afb8",
   "metadata": {},
   "outputs": [
    {
     "name": "stdout",
     "output_type": "stream",
     "text": [
      "The tensorboard extension is already loaded. To reload it, use:\n",
      "  %reload_ext tensorboard\n"
     ]
    },
    {
     "data": {
      "text/plain": [
       "Reusing TensorBoard on port 6006 (pid 10040), started 0:00:45 ago. (Use '!kill 10040' to kill it.)"
      ]
     },
     "metadata": {},
     "output_type": "display_data"
    },
    {
     "data": {
      "text/html": [
       "\n",
       "      <iframe id=\"tensorboard-frame-410e4addb5e27d0f\" width=\"100%\" height=\"800\" frameborder=\"0\">\n",
       "      </iframe>\n",
       "      <script>\n",
       "        (function() {\n",
       "          const frame = document.getElementById(\"tensorboard-frame-410e4addb5e27d0f\");\n",
       "          const url = new URL(\"/\", window.location);\n",
       "          const port = 6006;\n",
       "          if (port) {\n",
       "            url.port = port;\n",
       "          }\n",
       "          frame.src = url;\n",
       "        })();\n",
       "      </script>\n",
       "    "
      ],
      "text/plain": [
       "<IPython.core.display.HTML object>"
      ]
     },
     "metadata": {},
     "output_type": "display_data"
    }
   ],
   "source": [
    "import datetime\n",
    "import tensorboard\n",
    "%load_ext tensorboard\n",
    "%tensorboard --logdir logs/fit"
   ]
  },
  {
   "cell_type": "code",
   "execution_count": null,
   "id": "759c93c7",
   "metadata": {},
   "outputs": [],
   "source": []
  }
 ],
 "metadata": {
  "kernelspec": {
   "display_name": "Python 3 (ipykernel)",
   "language": "python",
   "name": "python3"
  },
  "language_info": {
   "codemirror_mode": {
    "name": "ipython",
    "version": 3
   },
   "file_extension": ".py",
   "mimetype": "text/x-python",
   "name": "python",
   "nbconvert_exporter": "python",
   "pygments_lexer": "ipython3",
   "version": "3.9.12"
  }
 },
 "nbformat": 4,
 "nbformat_minor": 5
}
